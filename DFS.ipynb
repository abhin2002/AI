{
  "nbformat": 4,
  "nbformat_minor": 0,
  "metadata": {
    "colab": {
      "name": "DFS.ipynb",
      "provenance": [],
      "collapsed_sections": [],
      "authorship_tag": "ABX9TyOJ4fePEawhjxT4p7owQWgQ",
      "include_colab_link": true
    },
    "kernelspec": {
      "name": "python3",
      "display_name": "Python 3"
    },
    "language_info": {
      "name": "python"
    }
  },
  "cells": [
    {
      "cell_type": "markdown",
      "metadata": {
        "id": "view-in-github",
        "colab_type": "text"
      },
      "source": [
        "<a href=\"https://colab.research.google.com/github/abhin2002/AI/blob/main/DFS.ipynb\" target=\"_parent\"><img src=\"https://colab.research.google.com/assets/colab-badge.svg\" alt=\"Open In Colab\"/></a>"
      ]
    },
    {
      "cell_type": "code",
      "execution_count": null,
      "metadata": {
        "id": "qJssJIAOVLv7"
      },
      "outputs": [],
      "source": [
        "WHITE = 0\n",
        "GRAY = 1\n",
        "BLACK = 2\n",
        "\n",
        "class Graph:\n",
        "    \n",
        "    def __init__(self,M):\n",
        "        self.Mat = M\n",
        "        self.N = M.shape[0]\n",
        "        self.parent = [None for _ in range(self.N)]\n",
        "        self.color = [None for _ in range(self.N)]\n",
        "        \n",
        "          \n",
        "    def getParent(self,index):\n",
        "        return self.parent[index]\n",
        "        \n",
        "    def getColor(self,index):\n",
        "        return self.color[index]\n",
        "    \n",
        "    def setParent(self,index,P):\n",
        "        self.parent[index] = P\n",
        "        \n",
        "    def setColor(self,index,color):\n",
        "        self.color[index] = color\n",
        "        \n",
        "    def getAdj(self, index):\n",
        "        adj=[]\n",
        "        for i,v in enumerate(self.Mat[index,:]):\n",
        "            if v!=0:\n",
        "                adj.append(i)\n",
        "        return adj\n"
      ]
    },
    {
      "cell_type": "code",
      "source": [
        "class DFS:\n",
        "\n",
        "  def __init__(self,G,source):\n",
        "\n",
        "    self.G = G\n",
        "    self.source = source\n",
        "    self.Q = []\n",
        "    self.result = []\n",
        "\n",
        "\n",
        "  def traverse(self):\n",
        "    for i in range(self.G.N):\n",
        "      self.G.setColor(i,WHITE)\n",
        "      self.G.setParent(i,None)\n",
        "    \n",
        "    # self.G.setColor(self.source,GRAY)\n",
        "    self.Q.append(self.source)\n",
        "    \n",
        "    while self.Q :\n",
        "      u = self.Q.pop(0)\n",
        "      if self.G.getColor(u) == WHITE:\n",
        "        self.G.setColor(u,GRAY)\n",
        "        self.visit(self.G,u)\n",
        "        \n",
        "\n",
        "  def visit(self,G,u):\n",
        "    for v in self.G.getAdj(u):\n",
        "      if self.G.getColor(v) == WHITE: \n",
        "        self.G.setColor(v,GRAY)\n",
        "        self.G.setParent(v,u)\n",
        "        self.visit(G,v)\n",
        "    self.G.setColor(u,BLACK) \n",
        "    self.result.append(u)\n",
        "\n",
        "  def printResult(self):\n",
        "    for u in self.result:\n",
        "      print(u,end=' ')\n",
        "    print('')\n",
        "     "
      ],
      "metadata": {
        "id": "27U01CKqDRxW"
      },
      "execution_count": null,
      "outputs": []
    },
    {
      "cell_type": "code",
      "source": [
        "import numpy as np\n",
        "\n",
        "M = np.array([[0,1,1,0,0],\n",
        "              [1,1,0,1,0],\n",
        "              [1,0,0,1,1],\n",
        "              [0,1,1,0,1],\n",
        "              [0,0,1,1,0]])\n",
        "\n",
        "G = Graph(M)\n",
        "dfs = DFS(G,1)\n",
        "dfs.traverse()\n",
        "dfs.printResult()"
      ],
      "metadata": {
        "colab": {
          "base_uri": "https://localhost:8080/"
        },
        "id": "lmZNF-188Wmy",
        "outputId": "e84f40d3-1f22-4bdb-a9f6-f7c2cf832eca"
      },
      "execution_count": null,
      "outputs": [
        {
          "output_type": "stream",
          "name": "stdout",
          "text": [
            "4 3 2 0 1 \n"
          ]
        }
      ]
    }
  ]
}