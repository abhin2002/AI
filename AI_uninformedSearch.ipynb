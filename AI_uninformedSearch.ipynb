{
  "nbformat": 4,
  "nbformat_minor": 0,
  "metadata": {
    "colab": {
      "provenance": [],
      "collapsed_sections": [],
      "authorship_tag": "ABX9TyOmaSItQnZPKcD8jkT+iWVy",
      "include_colab_link": true
    },
    "kernelspec": {
      "name": "python3",
      "display_name": "Python 3"
    },
    "language_info": {
      "name": "python"
    }
  },
  "cells": [
    {
      "cell_type": "markdown",
      "metadata": {
        "id": "view-in-github",
        "colab_type": "text"
      },
      "source": [
        "<a href=\"https://colab.research.google.com/github/abhin2002/AI/blob/main/AI_uninformedSearch.ipynb\" target=\"_parent\"><img src=\"https://colab.research.google.com/assets/colab-badge.svg\" alt=\"Open In Colab\"/></a>"
      ]
    },
    {
      "cell_type": "code",
      "execution_count": 1,
      "metadata": {
        "id": "Nq3Xz8Lff8kj"
      },
      "outputs": [],
      "source": [
        "WHITE = 0\n",
        "GRAY = 1\n",
        "BLACK = 2\n",
        "\n",
        "class Graph:\n",
        "    \n",
        "    def __init__(self,M):\n",
        "        self.Mat = M\n",
        "        self.N = M.shape[0]\n",
        "        self.parent = [None for _ in range(self.N)]\n",
        "        self.color = [None for _ in range(self.N)]\n",
        "        \n",
        "          \n",
        "    def getParent(self,index):\n",
        "        return self.parent[index]\n",
        "        \n",
        "    def getColor(self,index):\n",
        "        return self.color[index]\n",
        "    \n",
        "    def setParent(self,index,P):\n",
        "        self.parent[index] = P\n",
        "        \n",
        "    def setColor(self,index,color):\n",
        "        self.color[index] = color\n",
        "        \n",
        "    def getAdj(self, index):\n",
        "        adj=[]\n",
        "        for i,v in enumerate(self.Mat[index,:]):\n",
        "            if v!=0:\n",
        "                adj.append(i)\n",
        "        return adj\n"
      ]
    },
    {
      "cell_type": "code",
      "source": [
        "class BFS:\n",
        "    \n",
        "    def __init__(self,G,source):\n",
        "        \n",
        "        self.G = G\n",
        "        self.source = source\n",
        "        self.Q = []\n",
        "        self.result = []\n",
        "        \n",
        "    def traverse(self):\n",
        "    \n",
        "        for i in range(self.G.N):\n",
        "            self.G.setColor(i,WHITE)\n",
        "            self.G.setParent(i,None)\n",
        "            \n",
        "        self.G.setColor(self.source,GRAY)\n",
        "        self.Q.append(self.source)\n",
        "        while self.Q :\n",
        "            u = self.Q.pop(0)\n",
        "            for v in self.G.getAdj(u):\n",
        "                if self.G.getColor(v) == WHITE:\n",
        "                    self.G.setColor(v,GRAY)\n",
        "                    self.G.setParent(v,u)\n",
        "                    self.Q.append(v)\n",
        "            self.G.setColor(u,BLACK)\n",
        "            self.result.append(u)\n",
        "            \n",
        "    def printResult(self):\n",
        "        for u in self.result:\n",
        "            print(u,end=' ')\n",
        "        print('')\n",
        "            \n",
        "    def printLevel(self,curr,depth):\n",
        "        if curr == None:\n",
        "            return;\n",
        "        for i in range(1,depth):\n",
        "            print(\"│   \",end='')\n",
        "        if depth > 0:\n",
        "            print(\"|___\",end='')\n",
        "        print(curr);\n",
        "\n",
        "        for child in [i for i,x in enumerate(self.G.parent) if x== curr]:\n",
        "            self.printLevel(child, depth + 1);\n",
        "\n",
        "import numpy as np\n",
        "\n",
        "M = np.array([[0,1,1,0,0],\n",
        "              [1,1,0,1,0],\n",
        "              [1,0,0,1,1],\n",
        "              [0,1,1,0,1],\n",
        "              [0,0,1,1,0]])\n",
        "\n",
        "G = Graph(M)\n",
        "bfs = BFS(G,1)\n",
        "bfs.traverse()\n",
        "bfs.printResult()\n",
        "bfs.printLevel(1,0)\n"
      ],
      "metadata": {
        "id": "NMZIx5t1hg-b",
        "colab": {
          "base_uri": "https://localhost:8080/"
        },
        "outputId": "a34da390-58cc-45ee-a999-e980851accfe"
      },
      "execution_count": 2,
      "outputs": [
        {
          "output_type": "stream",
          "name": "stdout",
          "text": [
            "1 0 3 2 4 \n",
            "1\n",
            "|___0\n",
            "│   |___2\n",
            "|___3\n",
            "│   |___4\n"
          ]
        }
      ]
    },
    {
      "cell_type": "code",
      "source": [
        "class DFS:\n",
        "\n",
        "  def __init__(self,G,source):\n",
        "\n",
        "    self.G = G\n",
        "    self.source = source\n",
        "    self.Q = []\n",
        "    self.result = []\n",
        "\n",
        "\n",
        "  def traverse(self):\n",
        "    for i in range(self.G.N):\n",
        "      self.G.setColor(i,WHITE)\n",
        "      self.G.setParent(i,None)\n",
        "    \n",
        "    \n",
        "    self.Q.append(self.source)\n",
        "    \n",
        "    while self.Q :\n",
        "      u = self.Q.pop(0)\n",
        "      if self.G.getColor(u) == WHITE:\n",
        "        self.G.setColor(u,GRAY)\n",
        "        self.visit(self.G,u)\n",
        "        \n",
        "\n",
        "  def visit(self,G,u):\n",
        "    for v in self.G.getAdj(u):\n",
        "      if self.G.getColor(v) == WHITE: \n",
        "        self.G.setColor(v,GRAY)\n",
        "        self.G.setParent(v,u)\n",
        "        self.visit(G,v)\n",
        "    self.G.setColor(u,BLACK) \n",
        "    self.result.append(u)\n",
        "\n",
        "  def printResult(self):\n",
        "    for u in self.result:\n",
        "      print(u,end=' ')\n",
        "    print('')\n",
        "     \n",
        "\n",
        "import numpy as np\n",
        "\n",
        "M = np.array([[0,1,1,0,0],\n",
        "              [1,1,0,1,0],\n",
        "              [1,0,0,1,1],\n",
        "              [0,1,1,0,1],\n",
        "              [0,0,1,1,0]])\n",
        "\n",
        "G = Graph(M)\n",
        "dfs = DFS(G,1)\n",
        "dfs.traverse()\n",
        "dfs.printResult()"
      ],
      "metadata": {
        "colab": {
          "base_uri": "https://localhost:8080/"
        },
        "id": "osOY6Mzqhyaj",
        "outputId": "68045963-3bbd-4b4a-ac37-d31bc8c1e70e"
      },
      "execution_count": 3,
      "outputs": [
        {
          "output_type": "stream",
          "name": "stdout",
          "text": [
            "4 3 2 0 1 \n"
          ]
        }
      ]
    },
    {
      "cell_type": "code",
      "source": [
        "\n",
        "WHITE=1\n",
        "GREY=0\n",
        "BLACK=-1\n",
        "\n",
        "class Graph2:\n",
        "\n",
        "  def __init__(self,M):\n",
        "    self.Matrix=M\n",
        "    self.N=M.shape[0]\n",
        "    self.parent= [None for i in range(self.N)]\n",
        "    self.color= [WHITE for i in range(self.N)]\n",
        "\n",
        "  def getParent(self,index):\n",
        "        return self.parent[index]\n",
        "\n",
        "  def getColor(self,index):\n",
        "      return self.color[index]\n",
        "  \n",
        "  def setParent(self,index,P):\n",
        "      self.parent[index] = P\n",
        "      \n",
        "  def setColor(self,index,color):\n",
        "      self.color[index] = color\n",
        "      \n",
        "  def getAdjacent(self,index):\n",
        "      A=[]\n",
        "      for i,v in enumerate(self.Matrix[index,:]):\n",
        "          if v!=0:\n",
        "              A.append(i)\n",
        "      return A\n",
        "\n",
        "class DLS:\n",
        "\n",
        "  def __init__(self,Graph2,MaxD,goal):\n",
        "    self.G=Graph2\n",
        "    self.Path=[]\n",
        "    self.D=MaxD\n",
        "    self.level=1\n",
        "    self.Goal=goal\n",
        "  \n",
        "  def Traversal(self,S):\n",
        "    self.Path.append(S)\n",
        "    self.G.setColor(S,BLACK)\n",
        "    if S==self.Goal:\n",
        "      return self.Path\n",
        "    elif len(self.Path)==self.D:\n",
        "      return False\n",
        "    else:\n",
        "      self.level=self.level+1\n",
        "    for v in self.G.getAdjacent(S):\n",
        "      if self.G.getColor(v) == WHITE:\n",
        "        temp=self.Traversal(v)\n",
        "        if temp==True:\n",
        "          return self.Path\n",
        "        elif temp==self.Path:\n",
        "            return self.Path \n",
        "        else:\n",
        "          self.Path.remove(v)\n",
        "    return False  \n",
        "          \n",
        "    \n",
        "\n",
        "import numpy as np\n",
        "M = np.array([[0,1,1,1,0,0,0,0],\n",
        "              [1,0,0,0,1,1,0,0],\n",
        "              [1,0,0,0,0,0,1,1],\n",
        "              [1,0,0,0,0,0,0,1],\n",
        "              [0,1,0,0,0,1,0,0],\n",
        "              [0,1,0,0,1,0,1,0],\n",
        "              [0,0,1,0,0,1,0,0],\n",
        "              [0,0,1,1,0,0,0,0]])\n",
        "\n",
        "\n",
        "G = Graph2(M)\n",
        "search = DLS(G,4,5)\n",
        "print(search.Traversal(3))\n"
      ],
      "metadata": {
        "colab": {
          "base_uri": "https://localhost:8080/"
        },
        "id": "hrDWp9dem15R",
        "outputId": "2c6db56f-1d63-4907-e83a-1fb6b30ca6c5"
      },
      "execution_count": 9,
      "outputs": [
        {
          "output_type": "stream",
          "name": "stdout",
          "text": [
            "[3, 0, 1, 5]\n"
          ]
        }
      ]
    }
  ]
}